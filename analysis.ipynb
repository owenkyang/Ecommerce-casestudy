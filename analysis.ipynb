{
 "cells": [
  {
   "cell_type": "code",
   "execution_count": 259,
   "metadata": {},
   "outputs": [],
   "source": [
    "import pandas as pd\n",
    "import numpy as np\n",
    "import matplotlib.pyplot as plt\n",
    "import seaborn as sns"
   ]
  },
  {
   "cell_type": "markdown",
   "metadata": {},
   "source": [
    "# cleaning\n",
    "- check columns type\n",
    "- check null values\n",
    "- check for white spaces, (at the beginning and end)\n",
    "- str columns- > lower case (remove case sensitivity)\n",
    ".\n",
    ".\n",
    "."
   ]
  },
  {
   "cell_type": "markdown",
   "metadata": {},
   "source": [
    "- plot: 1 bin plot, stacked for transaction type, ..\n",
    "- make plots pretty and readable \n",
    "- split code in different sections, add title\n",
    "- concat columns, and use \"hist\" instead of group by\n"
   ]
  },
  {
   "cell_type": "markdown",
   "metadata": {},
   "source": [
    "## Cleaning and EDA"
   ]
  },
  {
   "cell_type": "markdown",
   "metadata": {},
   "source": [
    "### data processing and cleaning"
   ]
  },
  {
   "cell_type": "code",
   "execution_count": 254,
   "metadata": {},
   "outputs": [],
   "source": [
    "fact_df = pd.read_csv(\"fact_table.csv\")\n",
    "store_df = pd.read_csv(\"store_dim.csv\")\n",
    "time_df = pd.read_csv(\"time_dim.csv\")\n",
    "item_df = pd.read_csv(\"item_dim_new.csv\",sep = \";\")\n",
    "customer_df = pd.read_csv(\"customer_dim_new.csv\",sep = \";\")\n",
    "trans_df = pd.read_csv(\"trans_dim.csv\")\n",
    "# item_df[item_df['item_key'] == 'I00158']"
   ]
  },
  {
   "cell_type": "code",
   "execution_count": 261,
   "metadata": {},
   "outputs": [
    {
     "data": {
      "text/html": [
       "<div>\n",
       "<style scoped>\n",
       "    .dataframe tbody tr th:only-of-type {\n",
       "        vertical-align: middle;\n",
       "    }\n",
       "\n",
       "    .dataframe tbody tr th {\n",
       "        vertical-align: top;\n",
       "    }\n",
       "\n",
       "    .dataframe thead th {\n",
       "        text-align: right;\n",
       "    }\n",
       "</style>\n",
       "<table border=\"1\" class=\"dataframe\">\n",
       "  <thead>\n",
       "    <tr style=\"text-align: right;\">\n",
       "      <th></th>\n",
       "      <th>time_key</th>\n",
       "      <th>date</th>\n",
       "      <th>hour</th>\n",
       "      <th>day</th>\n",
       "      <th>week</th>\n",
       "      <th>month</th>\n",
       "      <th>quarter</th>\n",
       "      <th>year</th>\n",
       "    </tr>\n",
       "  </thead>\n",
       "  <tbody>\n",
       "    <tr>\n",
       "      <th>0</th>\n",
       "      <td>T00001</td>\n",
       "      <td>20-05-2017 14:56</td>\n",
       "      <td>14</td>\n",
       "      <td>20</td>\n",
       "      <td>3rd Week</td>\n",
       "      <td>5</td>\n",
       "      <td>Q2</td>\n",
       "      <td>2017</td>\n",
       "    </tr>\n",
       "    <tr>\n",
       "      <th>1</th>\n",
       "      <td>T00002</td>\n",
       "      <td>30-01-2015 22:14</td>\n",
       "      <td>22</td>\n",
       "      <td>30</td>\n",
       "      <td>4th Week</td>\n",
       "      <td>1</td>\n",
       "      <td>Q1</td>\n",
       "      <td>2015</td>\n",
       "    </tr>\n",
       "    <tr>\n",
       "      <th>2</th>\n",
       "      <td>T00003</td>\n",
       "      <td>14-03-2020 02:34</td>\n",
       "      <td>2</td>\n",
       "      <td>14</td>\n",
       "      <td>2nd Week</td>\n",
       "      <td>3</td>\n",
       "      <td>Q1</td>\n",
       "      <td>2020</td>\n",
       "    </tr>\n",
       "    <tr>\n",
       "      <th>3</th>\n",
       "      <td>T00004</td>\n",
       "      <td>27-04-2018 12:19</td>\n",
       "      <td>12</td>\n",
       "      <td>27</td>\n",
       "      <td>4th Week</td>\n",
       "      <td>4</td>\n",
       "      <td>Q2</td>\n",
       "      <td>2018</td>\n",
       "    </tr>\n",
       "    <tr>\n",
       "      <th>4</th>\n",
       "      <td>T00005</td>\n",
       "      <td>14-04-2018 10:43</td>\n",
       "      <td>10</td>\n",
       "      <td>14</td>\n",
       "      <td>2nd Week</td>\n",
       "      <td>4</td>\n",
       "      <td>Q2</td>\n",
       "      <td>2018</td>\n",
       "    </tr>\n",
       "    <tr>\n",
       "      <th>...</th>\n",
       "      <td>...</td>\n",
       "      <td>...</td>\n",
       "      <td>...</td>\n",
       "      <td>...</td>\n",
       "      <td>...</td>\n",
       "      <td>...</td>\n",
       "      <td>...</td>\n",
       "      <td>...</td>\n",
       "    </tr>\n",
       "    <tr>\n",
       "      <th>99994</th>\n",
       "      <td>T099995</td>\n",
       "      <td>04-01-2015 17:22</td>\n",
       "      <td>17</td>\n",
       "      <td>4</td>\n",
       "      <td>1st Week</td>\n",
       "      <td>1</td>\n",
       "      <td>Q1</td>\n",
       "      <td>2015</td>\n",
       "    </tr>\n",
       "    <tr>\n",
       "      <th>99995</th>\n",
       "      <td>T099996</td>\n",
       "      <td>17-01-2015 21:09</td>\n",
       "      <td>21</td>\n",
       "      <td>17</td>\n",
       "      <td>3rd Week</td>\n",
       "      <td>1</td>\n",
       "      <td>Q1</td>\n",
       "      <td>2015</td>\n",
       "    </tr>\n",
       "    <tr>\n",
       "      <th>99996</th>\n",
       "      <td>T099997</td>\n",
       "      <td>23-01-2020 14:42</td>\n",
       "      <td>14</td>\n",
       "      <td>23</td>\n",
       "      <td>4th Week</td>\n",
       "      <td>1</td>\n",
       "      <td>Q1</td>\n",
       "      <td>2020</td>\n",
       "    </tr>\n",
       "    <tr>\n",
       "      <th>99997</th>\n",
       "      <td>T099998</td>\n",
       "      <td>31-10-2015 13:52</td>\n",
       "      <td>13</td>\n",
       "      <td>31</td>\n",
       "      <td>4th Week</td>\n",
       "      <td>10</td>\n",
       "      <td>Q4</td>\n",
       "      <td>2015</td>\n",
       "    </tr>\n",
       "    <tr>\n",
       "      <th>99998</th>\n",
       "      <td>T099999</td>\n",
       "      <td>08-06-2017 08:59</td>\n",
       "      <td>8</td>\n",
       "      <td>8</td>\n",
       "      <td>2nd Week</td>\n",
       "      <td>6</td>\n",
       "      <td>Q2</td>\n",
       "      <td>2017</td>\n",
       "    </tr>\n",
       "  </tbody>\n",
       "</table>\n",
       "<p>99999 rows × 8 columns</p>\n",
       "</div>"
      ],
      "text/plain": [
       "      time_key              date  hour  day      week  month quarter  year\n",
       "0       T00001  20-05-2017 14:56    14   20  3rd Week      5      Q2  2017\n",
       "1       T00002  30-01-2015 22:14    22   30  4th Week      1      Q1  2015\n",
       "2       T00003  14-03-2020 02:34     2   14  2nd Week      3      Q1  2020\n",
       "3       T00004  27-04-2018 12:19    12   27  4th Week      4      Q2  2018\n",
       "4       T00005  14-04-2018 10:43    10   14  2nd Week      4      Q2  2018\n",
       "...        ...               ...   ...  ...       ...    ...     ...   ...\n",
       "99994  T099995  04-01-2015 17:22    17    4  1st Week      1      Q1  2015\n",
       "99995  T099996  17-01-2015 21:09    21   17  3rd Week      1      Q1  2015\n",
       "99996  T099997  23-01-2020 14:42    14   23  4th Week      1      Q1  2020\n",
       "99997  T099998  31-10-2015 13:52    13   31  4th Week     10      Q4  2015\n",
       "99998  T099999  08-06-2017 08:59     8    8  2nd Week      6      Q2  2017\n",
       "\n",
       "[99999 rows x 8 columns]"
      ]
     },
     "execution_count": 261,
     "metadata": {},
     "output_type": "execute_result"
    }
   ],
   "source": [
    "time_df"
   ]
  },
  {
   "cell_type": "code",
   "execution_count": 255,
   "metadata": {},
   "outputs": [
    {
     "data": {
      "text/plain": [
       "(payment_key       object\n",
       " coustomer_key     object\n",
       " time_key          object\n",
       " item_key          object\n",
       " store_key         object\n",
       " quantity           int64\n",
       " unit              object\n",
       " unit_price       float64\n",
       " total_price      float64\n",
       " dtype: object,\n",
       " store_key    object\n",
       " division     object\n",
       " district     object\n",
       " upazila      object\n",
       " dtype: object,\n",
       " time_key    object\n",
       " date        object\n",
       " hour         int64\n",
       " day          int64\n",
       " week        object\n",
       " month        int64\n",
       " quarter     object\n",
       " year         int64\n",
       " dtype: object,\n",
       " item_key        object\n",
       " item_name       object\n",
       " desc            object\n",
       " unit_price     float64\n",
       " man_country     object\n",
       " supplier        object\n",
       " unit            object\n",
       " dtype: object,\n",
       " coustomer_key    object\n",
       " name             object\n",
       " contact_no        int64\n",
       " nid               int64\n",
       " dtype: object,\n",
       " payment_key    object\n",
       " trans_type     object\n",
       " bank_name      object\n",
       " dtype: object)"
      ]
     },
     "execution_count": 255,
     "metadata": {},
     "output_type": "execute_result"
    }
   ],
   "source": [
    "# check data type of each dataframe\n",
    "fact_df.dtypes,store_df.dtypes,time_df.dtypes,item_df.dtypes,customer_df.dtypes,trans_df.dtypes"
   ]
  },
  {
   "cell_type": "code",
   "execution_count": 256,
   "metadata": {},
   "outputs": [
    {
     "name": "stdout",
     "output_type": "stream",
     "text": [
      "null values in fact_df:\n",
      " payment_key         0\n",
      "coustomer_key       0\n",
      "time_key            0\n",
      "item_key            0\n",
      "store_key           0\n",
      "quantity            0\n",
      "unit             3723\n",
      "unit_price          0\n",
      "total_price         0\n",
      "dtype: int64\n",
      "\n",
      "null values in store_df:\n",
      " store_key    0\n",
      "division     0\n",
      "district     0\n",
      "upazila      0\n",
      "dtype: int64\n",
      "\n",
      "null values in time_df:\n",
      " time_key    0\n",
      "date        0\n",
      "hour        0\n",
      "day         0\n",
      "week        0\n",
      "month       0\n",
      "quarter     0\n",
      "year        0\n",
      "dtype: int64\n",
      "\n",
      "null values in item_df:\n",
      " item_key       0\n",
      "item_name      0\n",
      "desc           0\n",
      "unit_price     0\n",
      "man_country    0\n",
      "supplier       0\n",
      "unit           1\n",
      "dtype: int64\n",
      "\n",
      "null values in customer_df:\n",
      " coustomer_key     0\n",
      "name             27\n",
      "contact_no        0\n",
      "nid               0\n",
      "dtype: int64\n",
      "\n",
      "null values in trans_df:\n",
      " payment_key    0\n",
      "trans_type     0\n",
      "bank_name      1\n",
      "dtype: int64\n"
     ]
    }
   ],
   "source": [
    "# check the null values for each dataframe\n",
    "fact_nulls = fact_df.isnull().sum()\n",
    "store_nulls = store_df.isnull().sum()\n",
    "time_nulls = time_df.isnull().sum()\n",
    "item_nulls = item_df.isnull().sum()\n",
    "customer_nulls = customer_df.isnull().sum()\n",
    "trans_nulls = trans_df.isnull().sum()\n",
    "\n",
    "\n",
    "print(\"null values in fact_df:\\n\", fact_nulls)\n",
    "print(\"\\nnull values in store_df:\\n\", store_nulls)\n",
    "print(\"\\nnull values in time_df:\\n\", time_nulls)\n",
    "print(\"\\nnull values in item_df:\\n\", item_nulls)\n",
    "print(\"\\nnull values in customer_df:\\n\", customer_nulls)\n",
    "print(\"\\nnull values in trans_df:\\n\", trans_nulls)"
   ]
  },
  {
   "cell_type": "code",
   "execution_count": 258,
   "metadata": {},
   "outputs": [
    {
     "data": {
      "text/plain": [
       "<AxesSubplot:>"
      ]
     },
     "execution_count": 258,
     "metadata": {},
     "output_type": "execute_result"
    },
    {
     "data": {
      "image/png": "[encoded data removed]",
      "text/plain": [
       "<Figure size 640x480 with 1 Axes>"
      ]
     },
     "metadata": {},
     "output_type": "display_data"
    }
   ],
   "source": [
    "# which time of the day most trans happens\n",
    "#(number of transactions by hour of the day)\n",
    "merge_time_df = pd.merge(fact_df, time_df, on='time_key')\n",
    "# group by hour and count the number of transactions\n",
    "transactions_by_hour = merge_time_df['hour'].value_counts().sort_index()\n",
    "# plot the number of transactions by hour\n",
    "# transactions_by_hour.hist(x='hour', title = 'Number of transactions by hour of the day')\n",
    "merge_time_df['hour'].hist()\n",
    "# adjust the plot by using hist"
   ]
  },
  {
   "cell_type": "code",
   "execution_count": 266,
   "metadata": {},
   "outputs": [
    {
     "data": {
      "text/html": [
       "<div>\n",
       "<style scoped>\n",
       "    .dataframe tbody tr th:only-of-type {\n",
       "        vertical-align: middle;\n",
       "    }\n",
       "\n",
       "    .dataframe tbody tr th {\n",
       "        vertical-align: top;\n",
       "    }\n",
       "\n",
       "    .dataframe thead th {\n",
       "        text-align: right;\n",
       "    }\n",
       "</style>\n",
       "<table border=\"1\" class=\"dataframe\">\n",
       "  <thead>\n",
       "    <tr style=\"text-align: right;\">\n",
       "      <th></th>\n",
       "      <th>desc</th>\n",
       "      <th>trans_type</th>\n",
       "      <th>count</th>\n",
       "    </tr>\n",
       "  </thead>\n",
       "  <tbody>\n",
       "    <tr>\n",
       "      <th>0</th>\n",
       "      <td>Beverage - Energy/Protein</td>\n",
       "      <td>card</td>\n",
       "      <td>47538</td>\n",
       "    </tr>\n",
       "    <tr>\n",
       "      <th>1</th>\n",
       "      <td>Beverage - Energy/Protein</td>\n",
       "      <td>cash</td>\n",
       "      <td>1351</td>\n",
       "    </tr>\n",
       "    <tr>\n",
       "      <th>2</th>\n",
       "      <td>Beverage - Energy/Protein</td>\n",
       "      <td>mobile</td>\n",
       "      <td>4036</td>\n",
       "    </tr>\n",
       "    <tr>\n",
       "      <th>3</th>\n",
       "      <td>Beverage - Gatorade</td>\n",
       "      <td>card</td>\n",
       "      <td>33838</td>\n",
       "    </tr>\n",
       "    <tr>\n",
       "      <th>4</th>\n",
       "      <td>Beverage - Gatorade</td>\n",
       "      <td>cash</td>\n",
       "      <td>985</td>\n",
       "    </tr>\n",
       "    <tr>\n",
       "      <th>...</th>\n",
       "      <td>...</td>\n",
       "      <td>...</td>\n",
       "      <td>...</td>\n",
       "    </tr>\n",
       "    <tr>\n",
       "      <th>82</th>\n",
       "      <td>a. Beverage - Soda</td>\n",
       "      <td>cash</td>\n",
       "      <td>2917</td>\n",
       "    </tr>\n",
       "    <tr>\n",
       "      <th>83</th>\n",
       "      <td>a. Beverage - Soda</td>\n",
       "      <td>mobile</td>\n",
       "      <td>8499</td>\n",
       "    </tr>\n",
       "    <tr>\n",
       "      <th>84</th>\n",
       "      <td>a. Beverage Sparkling Water</td>\n",
       "      <td>card</td>\n",
       "      <td>71335</td>\n",
       "    </tr>\n",
       "    <tr>\n",
       "      <th>85</th>\n",
       "      <td>a. Beverage Sparkling Water</td>\n",
       "      <td>cash</td>\n",
       "      <td>1949</td>\n",
       "    </tr>\n",
       "    <tr>\n",
       "      <th>86</th>\n",
       "      <td>a. Beverage Sparkling Water</td>\n",
       "      <td>mobile</td>\n",
       "      <td>6069</td>\n",
       "    </tr>\n",
       "  </tbody>\n",
       "</table>\n",
       "<p>87 rows × 3 columns</p>\n",
       "</div>"
      ],
      "text/plain": [
       "                           desc trans_type  count\n",
       "0     Beverage - Energy/Protein       card  47538\n",
       "1     Beverage - Energy/Protein       cash   1351\n",
       "2     Beverage - Energy/Protein     mobile   4036\n",
       "3           Beverage - Gatorade       card  33838\n",
       "4           Beverage - Gatorade       cash    985\n",
       "..                          ...        ...    ...\n",
       "82           a. Beverage - Soda       cash   2917\n",
       "83           a. Beverage - Soda     mobile   8499\n",
       "84  a. Beverage Sparkling Water       card  71335\n",
       "85  a. Beverage Sparkling Water       cash   1949\n",
       "86  a. Beverage Sparkling Water     mobile   6069\n",
       "\n",
       "[87 rows x 3 columns]"
      ]
     },
     "execution_count": 266,
     "metadata": {},
     "output_type": "execute_result"
    }
   ],
   "source": [
    "# Drop unnecessary columns\n",
    "dropped_col = ['customer_key', 'time_key', 'item_key', 'store_key',\n",
    "               'quantity', 'unit_x', 'unit_price_x', 'total_price', \n",
    "               'unit_price_y', 'man_country', 'supplier', 'unit_y', 'bank_name']\n",
    "\n",
    "\n",
    "fact_item_df = pd.merge(fact_df, item_df, on='item_key')\n",
    "fact_item_pay_df = pd.merge(fact_item_df, trans_df, on='payment_key')\n",
    "# group by 'item_name' and 'trans_type', then count the number of transactions\n",
    "fact_item_pay_df['desc'] = fact_item_pay_df.desc.str.strip() # to strip the extra space for desc\n",
    "transactions_by_item_type = fact_item_pay_df.groupby(['desc', 'trans_type']).size().reset_index(name='count')\n",
    "\n",
    "# drop the unnecessary columns if they still exist (though they should not after groupby)\n",
    "transactions_by_item_type = transactions_by_item_type.drop(columns=dropped_col, errors='ignore')\n",
    "transactions_by_item_type\n",
    "\n",
    "# adding sales for each trans_type"
   ]
  },
  {
   "cell_type": "code",
   "execution_count": 198,
   "metadata": {},
   "outputs": [
    {
     "data": {
      "text/plain": [
       "9191"
      ]
     },
     "execution_count": 198,
     "metadata": {},
     "output_type": "execute_result"
    }
   ],
   "source": [
    "fact_item_df = pd.merge(fact_df, item_df, on='item_key')\n",
    "fact_item_pay_df = pd.merge(fact_item_df, trans_df, on='payment_key')\n",
    "fact_item_pay_cust_df = pd.merge(fact_item_pay_df, customer_df, on='coustomer_key')\n",
    "# count the number of unique customers\n",
    "unique_customers = fact_item_pay_cust_df['coustomer_key'].nunique()\n",
    "unique_customers"
   ]
  },
  {
   "cell_type": "code",
   "execution_count": 199,
   "metadata": {},
   "outputs": [
    {
     "data": {
      "text/plain": [
       "coustomer_key\n",
       "C006906    156\n",
       "Name: count, dtype: int64"
      ]
     },
     "execution_count": 199,
     "metadata": {},
     "output_type": "execute_result"
    }
   ],
   "source": [
    "# the customer with the highest number of transactions\n",
    "transactions_per_customer = fact_item_pay_cust_df['coustomer_key'].value_counts()\n",
    "top_customer = transactions_per_customer.idxmax()\n",
    "top_customer_transactions = fact_item_pay_cust_df[fact_item_pay_cust_df['coustomer_key'] == top_customer]\n",
    "top_customer_transactions['coustomer_key'].value_counts()"
   ]
  },
  {
   "cell_type": "code",
   "execution_count": 242,
   "metadata": {},
   "outputs": [
    {
     "data": {
      "text/plain": [
       "0         2016Q2\n",
       "1         2015Q4\n",
       "2         2020Q4\n",
       "3         2015Q2\n",
       "4         2020Q3\n",
       "           ...  \n",
       "999995    2016Q3\n",
       "999996    2020Q1\n",
       "999997    2015Q1\n",
       "999998    2014Q2\n",
       "999999    2020Q4\n",
       "Length: 1000000, dtype: object"
      ]
     },
     "execution_count": 242,
     "metadata": {},
     "output_type": "execute_result"
    }
   ],
   "source": [
    "merged_df = fact_df.merge(time_df, on='time_key').merge(item_df, on='item_key')\n",
    "#merged_df.head(2)\n",
    "merged_df['year'].astype(str)+merged_df['quarter']"
   ]
  },
  {
   "cell_type": "code",
   "execution_count": 200,
   "metadata": {},
   "outputs": [
    {
     "data": {
      "text/plain": [
       "<AxesSubplot:xlabel='year_quarter'>"
      ]
     },
     "execution_count": 200,
     "metadata": {},
     "output_type": "execute_result"
    },
    {
     "data": {
      "image/png": "[encoded data removed]",
      "text/plain": [
       "<Figure size 640x480 with 1 Axes>"
      ]
     },
     "metadata": {},
     "output_type": "display_data"
    }
   ],
   "source": [
    "# What is the amount of sales per quarter in each year?\n",
    "\n",
    "def sales_per_year(fact_df, time_df, item_df):\n",
    "    merged_df = fact_df.merge(time_df, on='time_key').merge(item_df, on='item_key')\n",
    "    yearly_sales_df = merged_df.groupby(['year','quarter'])['total_price'].sum()\n",
    "    yearly_sales_df = yearly_sales_df.reset_index().rename(columns={'total_price': 'total_sales'})\n",
    "    return yearly_sales_df\n",
    "\n",
    "yearly_sales_df = sales_per_year(fact_df, time_df, item_df)\n",
    "yearly_sales_df['year_quarter'] = yearly_sales_df['year'].astype(str) + \" \" + yearly_sales_df['quarter']\n",
    "yearly_sales_df.plot.line(x=\"year_quarter\", y=\"total_sales\")\n"
   ]
  },
  {
   "cell_type": "code",
   "execution_count": 201,
   "metadata": {},
   "outputs": [
    {
     "data": {
      "text/html": [
       "<div>\n",
       "<style scoped>\n",
       "    .dataframe tbody tr th:only-of-type {\n",
       "        vertical-align: middle;\n",
       "    }\n",
       "\n",
       "    .dataframe tbody tr th {\n",
       "        vertical-align: top;\n",
       "    }\n",
       "\n",
       "    .dataframe thead th {\n",
       "        text-align: right;\n",
       "    }\n",
       "</style>\n",
       "<table border=\"1\" class=\"dataframe\">\n",
       "  <thead>\n",
       "    <tr style=\"text-align: right;\">\n",
       "      <th></th>\n",
       "      <th>man_country</th>\n",
       "      <th>supplier</th>\n",
       "      <th>total_sales</th>\n",
       "    </tr>\n",
       "  </thead>\n",
       "  <tbody>\n",
       "    <tr>\n",
       "      <th>0</th>\n",
       "      <td>Bangladesh</td>\n",
       "      <td>DENIMACH LTD</td>\n",
       "      <td>13337300.50</td>\n",
       "    </tr>\n",
       "    <tr>\n",
       "      <th>1</th>\n",
       "      <td>Cambodia</td>\n",
       "      <td>NINGBO SEDUNO IMP &amp; EXP CO.LTD</td>\n",
       "      <td>9463861.50</td>\n",
       "    </tr>\n",
       "    <tr>\n",
       "      <th>2</th>\n",
       "      <td>China</td>\n",
       "      <td>CHERRY GROUP CO.,LTD</td>\n",
       "      <td>5992661.00</td>\n",
       "    </tr>\n",
       "    <tr>\n",
       "      <th>3</th>\n",
       "      <td>Finland</td>\n",
       "      <td>HARDFORD AB</td>\n",
       "      <td>9416792.25</td>\n",
       "    </tr>\n",
       "    <tr>\n",
       "      <th>4</th>\n",
       "      <td>Germany</td>\n",
       "      <td>Friedola 1888 GmbH</td>\n",
       "      <td>10957102.25</td>\n",
       "    </tr>\n",
       "    <tr>\n",
       "      <th>5</th>\n",
       "      <td>India</td>\n",
       "      <td>Indo Count Industries Ltd</td>\n",
       "      <td>13159323.25</td>\n",
       "    </tr>\n",
       "    <tr>\n",
       "      <th>6</th>\n",
       "      <td>Lithuania</td>\n",
       "      <td>BIGSO AB</td>\n",
       "      <td>11746920.00</td>\n",
       "    </tr>\n",
       "    <tr>\n",
       "      <th>7</th>\n",
       "      <td>Netherlands</td>\n",
       "      <td>Bolsius Boxmeer</td>\n",
       "      <td>10458204.00</td>\n",
       "    </tr>\n",
       "    <tr>\n",
       "      <th>8</th>\n",
       "      <td>United States</td>\n",
       "      <td>MAESA SAS</td>\n",
       "      <td>9892983.50</td>\n",
       "    </tr>\n",
       "    <tr>\n",
       "      <th>9</th>\n",
       "      <td>poland</td>\n",
       "      <td>CHROMADURLIN S.A.S</td>\n",
       "      <td>10976287.50</td>\n",
       "    </tr>\n",
       "  </tbody>\n",
       "</table>\n",
       "</div>"
      ],
      "text/plain": [
       "     man_country                        supplier  total_sales\n",
       "0     Bangladesh                    DENIMACH LTD  13337300.50\n",
       "1       Cambodia  NINGBO SEDUNO IMP & EXP CO.LTD   9463861.50\n",
       "2          China            CHERRY GROUP CO.,LTD   5992661.00\n",
       "3        Finland                     HARDFORD AB   9416792.25\n",
       "4        Germany              Friedola 1888 GmbH  10957102.25\n",
       "5          India       Indo Count Industries Ltd  13159323.25\n",
       "6      Lithuania                        BIGSO AB  11746920.00\n",
       "7    Netherlands                 Bolsius Boxmeer  10458204.00\n",
       "8  United States                       MAESA SAS   9892983.50\n",
       "9         poland              CHROMADURLIN S.A.S  10976287.50"
      ]
     },
     "execution_count": 201,
     "metadata": {},
     "output_type": "execute_result"
    }
   ],
   "source": [
    "# What is the top supplier for each country, and how much does each supplier sell?\n",
    "\n",
    "def top_supplier_per_country(fact_df, item_df):\n",
    "    merged_df = fact_df.merge(item_df, on='item_key')\n",
    "    supplier_sales_df = merged_df.groupby(['man_country', 'supplier'])['total_price'].sum()\n",
    "    supplier_sales_df = supplier_sales_df.reset_index().rename(columns={'total_price': 'total_sales'})\n",
    "    top_suppliers_df = supplier_sales_df.loc[supplier_sales_df.groupby('man_country')['total_sales'].idxmax()].reset_index(drop=True)\n",
    "    return top_suppliers_df\n",
    "\n",
    "top_suppliers_df = top_supplier_per_country(fact_df, item_df)\n",
    "top_suppliers_df"
   ]
  },
  {
   "cell_type": "code",
   "execution_count": 202,
   "metadata": {},
   "outputs": [],
   "source": [
    "# Which supplier has the highest sales each year?\n",
    "\n",
    "# def top_supplier_per_year(fact_df, time_df, item_df):\n",
    "#     merged_df = fact_df.merge(time_df, on='time_key').merge(item_df, on='item_key')\n",
    "#     supplier_yearly_sales_df = merged_df.groupby(['year', 'supplier'])['total_price'].sum()\n",
    "#     supplier_yearly_sales_df = supplier_yearly_sales_df.reset_index().rename(columns={'total_price': 'total_sales'})\n",
    "#     top_suppliers_yearly_df = supplier_yearly_sales_df.loc[supplier_yearly_sales_df.groupby('year')['total_sales'].idxmax()].reset_index(drop=True)\n",
    "#     return top_suppliers_yearly_df\n",
    "\n",
    "# top_suppliers_yearly_df = top_supplier_per_year(fact_df, time_df, item_df)\n",
    "# top_suppliers_yearly_df"
   ]
  },
  {
   "cell_type": "code",
   "execution_count": 203,
   "metadata": {},
   "outputs": [],
   "source": [
    "# Which products are the most sold in each store?\n",
    "\n",
    "# def top_products_per_store(fact_df, item_df):\n",
    "#     merged_df = fact_df.merge(item_df, on='item_key')\n",
    "#     top_products_df = merged_df.groupby(['store_key', 'item_name'])['quantity'].sum().reset_index()\n",
    "#     top_products_df = top_products_df.loc[top_products_df.groupby('store_key')['quantity'].idxmax()].reset_index(drop=True)\n",
    "#     return top_products_df\n",
    "\n",
    "# top_products_store_df = top_products_per_store(fact_df, item_df)\n",
    "# top_products_store_df"
   ]
  },
  {
   "cell_type": "code",
   "execution_count": null,
   "metadata": {},
   "outputs": [],
   "source": []
  }
 ],
 "metadata": {
  "kernelspec": {
   "display_name": "Python 3",
   "language": "python",
   "name": "python3"
  },
  "language_info": {
   "codemirror_mode": {
    "name": "ipython",
    "version": 3
   },
   "file_extension": ".py",
   "mimetype": "text/x-python",
   "name": "python",
   "nbconvert_exporter": "python",
   "pygments_lexer": "ipython3",
   "version": "3.8.13"
  }
 },
 "nbformat": 4,
 "nbformat_minor": 2
}
