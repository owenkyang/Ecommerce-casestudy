{
 "cells": [
  {
   "cell_type": "code",
   "execution_count": 1,
   "id": "5e1d49a9-f109-4cda-87d9-ec1164d7c4b5",
   "metadata": {},
   "outputs": [],
   "source": [
    "import pandas as pd\n",
    "import numpy as np\n",
    "import matplotlib.pyplot as plt\n",
    "import seaborn as sns"
   ]
  },
  {
   "cell_type": "code",
   "execution_count": 2,
   "id": "9752cc9d-7d72-4c0e-9a79-c6cd51a0a9d8",
   "metadata": {},
   "outputs": [],
   "source": [
    "fact_df = pd.read_csv(\"cleaned-data/fact_table.csv\")\n",
    "store_df = pd.read_csv(\"cleaned-data/store_dim.csv\")\n",
    "time_df = pd.read_csv(\"cleaned-data/time_dim.csv\")\n",
    "item_df = pd.read_csv(\"cleaned-data/item_dim.csv\",sep = \";\", encoding='cp1252')\n",
    "customer_df = pd.read_csv(\"cleaned-data/customer_dim.csv\",sep = \";\")\n",
    "trans_df = pd.read_csv(\"cleaned-data/trans_dim.csv\")"
   ]
  },
  {
   "cell_type": "code",
   "execution_count": 15,
   "id": "4348efca-6908-4da0-bf03-c6ca96bf200a",
   "metadata": {},
   "outputs": [],
   "source": [
    "# fact table with the time the item was sold\n",
    "merge_time_df = pd.merge(fact_df, time_df, on='time_key')\n",
    "# fact table with the specific item description\n",
    "fact_item_df = pd.merge(fact_df, item_df, on='item_key')\n",
    "# fact table with the specific item description and the transaction details\n",
    "fact_item_pay_df = pd.merge(fact_item_df, trans_df, on='payment_key')\n",
    "# fact table with item description, transaction details, and the customer information\n",
    "fact_item_pay_cust_df = pd.merge(fact_item_pay_df, customer_df, on='coustomer_key')"
   ]
  },
  {
   "cell_type": "code",
   "execution_count": 22,
   "id": "4ca14aa1-e1c7-49a1-9bfb-c2ef243420c3",
   "metadata": {},
   "outputs": [],
   "source": [
    "complete = pd.merge(\n",
    "                merge_time_df,item_df, on='item_key'\n",
    "            ).merge(\n",
    "                trans_df, on='payment_key'\n",
    "            ).merge(\n",
    "                customer_df, on='coustomer_key'\n",
    "            ).merge(\n",
    "                store_df, on='store_key'\n",
    "            )"
   ]
  },
  {
   "cell_type": "code",
   "execution_count": 25,
   "id": "2bb6c1fd-67c8-47ab-8229-9eac28f669d1",
   "metadata": {},
   "outputs": [
    {
     "data": {
      "text/plain": [
       "Index(['payment_key', 'coustomer_key', 'time_key', 'item_key', 'store_key',\n",
       "       'quantity', 'unit_x', 'unit_price_x', 'total_price', 'date', 'hour',\n",
       "       'day', 'week', 'month', 'quarter', 'year', 'item_name', 'desc',\n",
       "       'unit_price_y', 'man_country', 'supplier', 'unit_y', 'trans_type',\n",
       "       'bank_name', 'name', 'contact_no', 'nid', 'division', 'district',\n",
       "       'upazila'],\n",
       "      dtype='object')"
      ]
     },
     "execution_count": 25,
     "metadata": {},
     "output_type": "execute_result"
    }
   ],
   "source": [
    "complete.columns"
   ]
  },
  {
   "cell_type": "code",
   "execution_count": null,
   "id": "62594ae9-c9a2-4e79-a164-c9dfb7dcbdfa",
   "metadata": {},
   "outputs": [],
   "source": []
  },
  {
   "cell_type": "code",
   "execution_count": null,
   "id": "4fb504fc-4bea-4bad-8327-ad3575ce8a79",
   "metadata": {},
   "outputs": [],
   "source": []
  },
  {
   "cell_type": "code",
   "execution_count": null,
   "id": "75326896-fdf0-4bc7-a746-e56716ef1cf2",
   "metadata": {},
   "outputs": [],
   "source": []
  },
  {
   "cell_type": "code",
   "execution_count": null,
   "id": "b6f7634a-9c22-425a-bb6b-25c6795ff562",
   "metadata": {},
   "outputs": [],
   "source": []
  },
  {
   "cell_type": "code",
   "execution_count": null,
   "id": "8aecb87c-e22d-4465-97ff-3a06a054a571",
   "metadata": {},
   "outputs": [],
   "source": []
  },
  {
   "cell_type": "code",
   "execution_count": null,
   "id": "3377c005-ee14-46be-8c59-009cb5cea7db",
   "metadata": {},
   "outputs": [],
   "source": []
  },
  {
   "cell_type": "code",
   "execution_count": null,
   "id": "887010be-cdbe-4fc2-8fba-7d8391ecf39a",
   "metadata": {},
   "outputs": [],
   "source": []
  }
 ],
 "metadata": {
  "kernelspec": {
   "display_name": "Python 3 (ipykernel)",
   "language": "python",
   "name": "python3"
  },
  "language_info": {
   "codemirror_mode": {
    "name": "ipython",
    "version": 3
   },
   "file_extension": ".py",
   "mimetype": "text/x-python",
   "name": "python",
   "nbconvert_exporter": "python",
   "pygments_lexer": "ipython3",
   "version": "3.11.7"
  }
 },
 "nbformat": 4,
 "nbformat_minor": 5
}
